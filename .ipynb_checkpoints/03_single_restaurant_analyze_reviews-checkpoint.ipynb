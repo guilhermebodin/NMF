{
 "cells": [
  {
   "cell_type": "markdown",
   "metadata": {},
   "source": [
    "## 0_Imports & Configs"
   ]
  },
  {
   "cell_type": "code",
   "execution_count": 1,
   "metadata": {},
   "outputs": [],
   "source": [
    "import pandas as pd\n",
    "import numpy as np\n",
    "import matplotlib.pyplot as plt\n",
    "import seaborn as sns"
   ]
  },
  {
   "cell_type": "code",
   "execution_count": 15,
   "metadata": {},
   "outputs": [],
   "source": [
    "from sklearn.decomposition import NMF\n",
    "from sklearn.feature_extraction import text \n",
    "from sklearn.feature_extraction.text import TfidfVectorizer\n",
    "from sklearn.base import clone"
   ]
  },
  {
   "cell_type": "markdown",
   "metadata": {},
   "source": [
    "## 1_Reading & Cleaning Data"
   ]
  },
  {
   "cell_type": "code",
   "execution_count": 3,
   "metadata": {},
   "outputs": [],
   "source": [
    "df_0 = pd.read_csv('../yelp_dataset/yelp_reviews_PA.csv').drop(columns=['state','is_open'])"
   ]
  },
  {
   "cell_type": "code",
   "execution_count": 4,
   "metadata": {},
   "outputs": [],
   "source": [
    "df_1 = df_0[df_0['categories'].str.contains('Restaurants',na=False)].drop(columns=['categories'])"
   ]
  },
  {
   "cell_type": "code",
   "execution_count": 5,
   "metadata": {},
   "outputs": [],
   "source": [
    "df_1['review_length'] = df_1.text.map(len)"
   ]
  },
  {
   "cell_type": "markdown",
   "metadata": {},
   "source": [
    "## 2_Exploratory Analysis"
   ]
  },
  {
   "cell_type": "code",
   "execution_count": 6,
   "metadata": {},
   "outputs": [
    {
     "data": {
      "image/png": "[encoded data removed]",
      "text/plain": [
       "<Figure size 432x288 with 1 Axes>"
      ]
     },
     "metadata": {
      "needs_background": "light"
     },
     "output_type": "display_data"
    }
   ],
   "source": [
    "plt.hist(df_1['review_stars']);"
   ]
  },
  {
   "cell_type": "code",
   "execution_count": 7,
   "metadata": {},
   "outputs": [
    {
     "data": {
      "image/png": "[encoded data removed]",
      "text/plain": [
       "<Figure size 1080x216 with 5 Axes>"
      ]
     },
     "metadata": {
      "needs_background": "light"
     },
     "output_type": "display_data"
    }
   ],
   "source": [
    "ax = sns.FacetGrid(data=df_1, col='review_stars', xlim=(0, 2000)).map(plt.hist, 'review_length', bins=50)\n",
    "ax.axes[0][0].set(ylabel='number of reviews');"
   ]
  },
  {
   "cell_type": "markdown",
   "metadata": {},
   "source": [
    "## 3_Topic Modeling"
   ]
  },
  {
   "cell_type": "markdown",
   "metadata": {},
   "source": [
    "### 3.1_Preprocessing"
   ]
  },
  {
   "cell_type": "code",
   "execution_count": 8,
   "metadata": {},
   "outputs": [],
   "source": [
    "df_1positive = df_1[df_1['review_stars']>3]['text'].tolist()\n",
    "df_1negative = df_1[df_1['review_stars']<3]['text'].tolist()"
   ]
  },
  {
   "cell_type": "markdown",
   "metadata": {},
   "source": [
    "#### 3.1.1_Setting stopwords"
   ]
  },
  {
   "cell_type": "code",
   "execution_count": 9,
   "metadata": {},
   "outputs": [],
   "source": [
    "extra_words = ['ve', 'like', 'got', 'just', \n",
    "                'restaurant', 'great',\n",
    "                'topping', 'toppings',\n",
    "               'don', 'really', 'said', 'told', 'ok',\n",
    "               'came', 'went', 'did', 'didn', 'good']\n",
    "stop_words = text.ENGLISH_STOP_WORDS.union(extra_words)"
   ]
  },
  {
   "cell_type": "markdown",
   "metadata": {},
   "source": [
    "#### 3.1.1_Replacing similar words by a common term"
   ]
  },
  {
   "cell_type": "code",
   "execution_count": 10,
   "metadata": {},
   "outputs": [],
   "source": [
    "def replace_words(text, dict_words):\n",
    "    for i,j in dict_words.items():\n",
    "        text = text.replace(i,j)\n",
    "    return text"
   ]
  },
  {
   "cell_type": "code",
   "execution_count": 11,
   "metadata": {},
   "outputs": [],
   "source": [
    "dict_words = {'ordered':'order',\n",
    "              'prices':'price', \n",
    "              'pizzas':'pizza', \n",
    "              'burgers': 'burguer',\n",
    "              'waiting' : 'wait',\n",
    "              'waited' : 'wait',\n",
    "              'waitress' : 'waiter'\n",
    "             }\n"
   ]
  },
  {
   "cell_type": "code",
   "execution_count": 12,
   "metadata": {},
   "outputs": [],
   "source": [
    "df_1negative = [replace_words(w, dict_words) for w in df_1negative]\n",
    "df_1positive = [replace_words(w, dict_words) for w in df_1positive]"
   ]
  },
  {
   "cell_type": "markdown",
   "metadata": {},
   "source": [
    "### 3.1_Dividing Dataset"
   ]
  },
  {
   "cell_type": "code",
   "execution_count": 13,
   "metadata": {},
   "outputs": [],
   "source": [
    "vectorizer_template = TfidfVectorizer(max_df=0.6, min_df=20, stop_words=stop_words)"
   ]
  },
  {
   "cell_type": "markdown",
   "metadata": {},
   "source": [
    "### 3.2_Modeling the Positive Topic"
   ]
  },
  {
   "cell_type": "markdown",
   "metadata": {},
   "source": [
    "#### 3.2.1_Preprocessing"
   ]
  },
  {
   "cell_type": "code",
   "execution_count": 16,
   "metadata": {},
   "outputs": [],
   "source": [
    "## Primeira rodada: pegar o número de palavras\n",
    "aux_vectorizer = clone(vectorizer_template)\n",
    "aux_vectorizer.fit(df_1positive)\n",
    "max_features = int(0.2*len(aux_vectorizer.get_feature_names()))\n",
    "\n",
    "## Segunda rodada: faz a transformação\n",
    "positive_vectorizer = clone(vectorizer_template).set_params(max_features=max_features)\n",
    "positive_vectors = positive_vectorizer.fit_transform(df_1positive)\n",
    "positive_words = np.array(positive_vectorizer.get_feature_names())"
   ]
  },
  {
   "cell_type": "markdown",
   "metadata": {},
   "source": [
    "#### 3.2.2_Decomposing"
   ]
  },
  {
   "cell_type": "code",
   "execution_count": 27,
   "metadata": {},
   "outputs": [],
   "source": [
    "positive_nmf = NMF(n_components=5, solver=\"mu\")\n",
    "W = positive_nmf.fit_transform(positive_vectors)\n",
    "H = positive_nmf.components_"
   ]
  },
  {
   "cell_type": "code",
   "execution_count": 28,
   "metadata": {},
   "outputs": [
    {
     "name": "stdout",
     "output_type": "stream",
     "text": [
      "Topic 1: little,try,food,definitely,nice,wait,menu,delicious,time,order\n",
      "Topic 2: slice,order,wings,pepperoni,best,sauce,delivery,cheese,crust,pizza\n",
      "Topic 3: price,place,amazing,recommend,excellent,atmosphere,staff,friendly,service,food\n",
      "Topic 4: noodles,chinese,soup,pad,rice,curry,spicy,sushi,chicken,thai\n",
      "Topic 5: sandwich,shop,eat,favorite,breakfast,pittsburgh,coffee,best,place,love\n"
     ]
    }
   ],
   "source": [
    "for i, topic in enumerate(H):\n",
    "     print(\"Topic {}: {}\".format(i + 1, \",\".join([str(x) for x in positive_words[topic.argsort()[-10:]]])))"
   ]
  },
  {
   "cell_type": "markdown",
   "metadata": {},
   "source": [
    "### 3.3_Modeling the Negative Topic"
   ]
  },
  {
   "cell_type": "markdown",
   "metadata": {},
   "source": [
    "#### 3.3.1_Preprocessing"
   ]
  },
  {
   "cell_type": "code",
   "execution_count": 29,
   "metadata": {},
   "outputs": [],
   "source": [
    "## Primeira rodada: pegar o número de palavras\n",
    "aux_vectorizer = clone(vectorizer_template)\n",
    "aux_vectorizer.fit(df_1negative)\n",
    "max_features = int(0.2*len(aux_vectorizer.get_feature_names()))\n",
    "\n",
    "## Segunda rodada: faz a transformação\n",
    "vectorizer = clone(vectorizer_template).set_params(max_features=max_features)\n",
    "negative_vectors = vectorizer.fit_transform(df_1negative)\n",
    "negative_words = np.array(positive_vectorizer.get_feature_names())"
   ]
  },
  {
   "cell_type": "markdown",
   "metadata": {},
   "source": [
    "#### 3.3.2_Decomposing"
   ]
  },
  {
   "cell_type": "code",
   "execution_count": 30,
   "metadata": {},
   "outputs": [],
   "source": [
    "negative_nmf = NMF(n_components=8, solver=\"mu\")\n",
    "W = negative_nmf.fit_transform(negative_vectors)\n",
    "H = negative_nmf.components_"
   ]
  },
  {
   "cell_type": "code",
   "execution_count": 31,
   "metadata": {},
   "outputs": [
    {
     "name": "stdout",
     "output_type": "stream",
     "text": [
      "Topic 1: chairs,juice,fruit,noodle,mall,expensive,industrial,fajitas,negative,corn\n",
      "Topic 2: laid,cherry,fruit,cash,office,gone,instead,blew,cafe,greasy\n",
      "Topic 3: negative,italy,10,15,1st,messy,dining,mall,fast,needless\n",
      "Topic 4: listed,greatest,included,ask,dim,lasagna,arrived,meal,juicy,corn\n",
      "Topic 5: gem,legs,instead,blueberry,courses,fruit,meaning,idea,corn,bloomfield\n",
      "Topic 6: beer,orange,exceeded,included,california,gotta,meeting,cash,bell,fruit\n",
      "Topic 7: inn,country,arrive,explained,brand,beautiful,blew,initially,coworkers,beat\n",
      "Topic 8: changed,minor,grease,christmas,listed,boyfriend,meeting,needless,gold,greatest\n"
     ]
    }
   ],
   "source": [
    "for i, topic in enumerate(H):\n",
    "     print(\"Topic {}: {}\".format(i + 1, \",\".join([str(x) for x in negative_words[topic.argsort()[-10:]]])))"
   ]
  }
 ],
 "metadata": {
  "kernelspec": {
   "display_name": "Python 3",
   "language": "python",
   "name": "python3"
  },
  "language_info": {
   "codemirror_mode": {
    "name": "ipython",
    "version": 3
   },
   "file_extension": ".py",
   "mimetype": "text/x-python",
   "name": "python",
   "nbconvert_exporter": "python",
   "pygments_lexer": "ipython3",
   "version": "3.7.1"
  }
 },
 "nbformat": 4,
 "nbformat_minor": 4
}
