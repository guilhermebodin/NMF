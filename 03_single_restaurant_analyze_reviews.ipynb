{
 "cells": [
  {
   "cell_type": "markdown",
   "metadata": {},
   "source": [
    "## 0_Imports & Configs"
   ]
  },
  {
   "cell_type": "code",
   "execution_count": 1,
   "metadata": {},
   "outputs": [],
   "source": [
    "import pandas as pd\n",
    "import numpy as np\n",
    "import matplotlib.pyplot as plt\n",
    "import seaborn as sns"
   ]
  },
  {
   "cell_type": "code",
   "execution_count": 2,
   "metadata": {},
   "outputs": [],
   "source": [
    "from sklearn.decomposition import NMF\n",
    "from sklearn.feature_extraction import text \n",
    "from sklearn.feature_extraction.text import TfidfVectorizer\n",
    "from sklearn.base import clone"
   ]
  },
  {
   "cell_type": "markdown",
   "metadata": {},
   "source": [
    "## 1_Reading & Cleaning Data"
   ]
  },
  {
   "cell_type": "code",
   "execution_count": 3,
   "metadata": {},
   "outputs": [],
   "source": [
    "df_0 = pd.read_csv('../yelp_dataset/yelp_reviews_PA.csv').drop(columns=['state','is_open'])"
   ]
  },
  {
   "cell_type": "code",
   "execution_count": 4,
   "metadata": {},
   "outputs": [],
   "source": [
    "df_1 = df_0[df_0['categories'].str.contains('Restaurants',na=False)]"
   ]
  },
  {
   "cell_type": "markdown",
   "metadata": {},
   "source": [
    "## 2_Exploratory Analysis"
   ]
  },
  {
   "cell_type": "code",
   "execution_count": 5,
   "metadata": {},
   "outputs": [],
   "source": [
    "N_restaurants = 12"
   ]
  },
  {
   "cell_type": "code",
   "execution_count": 6,
   "metadata": {},
   "outputs": [
    {
     "name": "stdout",
     "output_type": "stream",
     "text": [
      "                          G    B\n",
      "JLbgvGM4FXh9zNP4O5ZWjQ: 1641; 212\n",
      "u4sTiCzVeIHZY8OlaL346Q: 1800; 98\n",
      "woXlprCuowrLJswWere3TQ: 1223; 122\n",
      "lKom12WnYEjH5FFemK3M1Q: 794; 323\n",
      "dLc1d1zwd1Teu2QED5TmlA: 1167; 80\n",
      "ejaUQ1hYo7Q7xCL1HdPINw: 679; 193\n",
      "SmkYLXEYhzwUZdS6TAevHg: 813; 77\n",
      "sMzNLdhJZGzYirIWt-fMAg: 630; 115\n",
      "Voeq7aGDmCGMjE_SQiHwRA: 678; 65\n",
      "LQFmktF43j2NPncKdNd9mg: 629; 71\n",
      "w_UCGMgok7N9p0XdYBx1VQ: 457; 192\n",
      "wmCBxE0PfLZD8sxIwAY59Q: 584; 87\n"
     ]
    }
   ],
   "source": [
    "most_reviewd_restaurants = df_1.groupby(by='business_id').count().iloc[:,1].sort_values(ascending=False)[0:N_restaurants]\n",
    "most_reviewd_IDs = most_reviewd_restaurants.index\n",
    "\n",
    "print(f'                          G    B')\n",
    "for _id in most_reviewd_IDs:\n",
    "    good_reviews = df_1[(df_1['business_id']==_id) & (df_1['review_stars']>3)].shape[0]\n",
    "    bad_reviews = df_1[(df_1['business_id']==_id) & (df_1['review_stars']<3)].shape[0]\n",
    "    print(f'{_id}: {good_reviews}; {bad_reviews}')"
   ]
  },
  {
   "cell_type": "code",
   "execution_count": 7,
   "metadata": {},
   "outputs": [
    {
     "data": {
      "text/html": [
       "<div>\n",
       "<style scoped>\n",
       "    .dataframe tbody tr th:only-of-type {\n",
       "        vertical-align: middle;\n",
       "    }\n",
       "\n",
       "    .dataframe tbody tr th {\n",
       "        vertical-align: top;\n",
       "    }\n",
       "\n",
       "    .dataframe thead th {\n",
       "        text-align: right;\n",
       "    }\n",
       "</style>\n",
       "<table border=\"1\" class=\"dataframe\">\n",
       "  <thead>\n",
       "    <tr style=\"text-align: right;\">\n",
       "      <th></th>\n",
       "      <th>business_id</th>\n",
       "      <th>categories</th>\n",
       "      <th>stars</th>\n",
       "    </tr>\n",
       "  </thead>\n",
       "  <tbody>\n",
       "    <tr>\n",
       "      <th>26404</th>\n",
       "      <td>woXlprCuowrLJswWere3TQ</td>\n",
       "      <td>American (New), Mexican, Restaurants</td>\n",
       "      <td>4.5</td>\n",
       "    </tr>\n",
       "    <tr>\n",
       "      <th>39260</th>\n",
       "      <td>ejaUQ1hYo7Q7xCL1HdPINw</td>\n",
       "      <td>Bars, Restaurants, Breweries, Nightlife, Food,...</td>\n",
       "      <td>3.5</td>\n",
       "    </tr>\n",
       "    <tr>\n",
       "      <th>40801</th>\n",
       "      <td>SmkYLXEYhzwUZdS6TAevHg</td>\n",
       "      <td>Butcher, American (New), Nightlife, Cocktail B...</td>\n",
       "      <td>4.5</td>\n",
       "    </tr>\n",
       "    <tr>\n",
       "      <th>43432</th>\n",
       "      <td>lKom12WnYEjH5FFemK3M1Q</td>\n",
       "      <td>Sandwiches, Restaurants, Botanical Gardens, Ar...</td>\n",
       "      <td>3.5</td>\n",
       "    </tr>\n",
       "    <tr>\n",
       "      <th>82288</th>\n",
       "      <td>sMzNLdhJZGzYirIWt-fMAg</td>\n",
       "      <td>Pizza, Cocktail Bars, American (New), Restaura...</td>\n",
       "      <td>4.0</td>\n",
       "    </tr>\n",
       "    <tr>\n",
       "      <th>85295</th>\n",
       "      <td>wmCBxE0PfLZD8sxIwAY59Q</td>\n",
       "      <td>Breweries, Pubs, French, Food, German, Bars, R...</td>\n",
       "      <td>4.0</td>\n",
       "    </tr>\n",
       "    <tr>\n",
       "      <th>89038</th>\n",
       "      <td>dLc1d1zwd1Teu2QED5TmlA</td>\n",
       "      <td>Thai, Noodles, Food, Restaurants</td>\n",
       "      <td>4.5</td>\n",
       "    </tr>\n",
       "    <tr>\n",
       "      <th>126458</th>\n",
       "      <td>u4sTiCzVeIHZY8OlaL346Q</td>\n",
       "      <td>Seafood, Latin American, Argentine, Restaurant...</td>\n",
       "      <td>4.5</td>\n",
       "    </tr>\n",
       "    <tr>\n",
       "      <th>134349</th>\n",
       "      <td>w_UCGMgok7N9p0XdYBx1VQ</td>\n",
       "      <td>Restaurants, Sandwiches, Bars, Chicken Wings, ...</td>\n",
       "      <td>3.5</td>\n",
       "    </tr>\n",
       "    <tr>\n",
       "      <th>163464</th>\n",
       "      <td>Voeq7aGDmCGMjE_SQiHwRA</td>\n",
       "      <td>American (New), Seafood, Cocktail Bars, Nightl...</td>\n",
       "      <td>4.0</td>\n",
       "    </tr>\n",
       "  </tbody>\n",
       "</table>\n",
       "</div>"
      ],
      "text/plain": [
       "                   business_id  \\\n",
       "26404   woXlprCuowrLJswWere3TQ   \n",
       "39260   ejaUQ1hYo7Q7xCL1HdPINw   \n",
       "40801   SmkYLXEYhzwUZdS6TAevHg   \n",
       "43432   lKom12WnYEjH5FFemK3M1Q   \n",
       "82288   sMzNLdhJZGzYirIWt-fMAg   \n",
       "85295   wmCBxE0PfLZD8sxIwAY59Q   \n",
       "89038   dLc1d1zwd1Teu2QED5TmlA   \n",
       "126458  u4sTiCzVeIHZY8OlaL346Q   \n",
       "134349  w_UCGMgok7N9p0XdYBx1VQ   \n",
       "163464  Voeq7aGDmCGMjE_SQiHwRA   \n",
       "\n",
       "                                               categories  stars  \n",
       "26404                American (New), Mexican, Restaurants    4.5  \n",
       "39260   Bars, Restaurants, Breweries, Nightlife, Food,...    3.5  \n",
       "40801   Butcher, American (New), Nightlife, Cocktail B...    4.5  \n",
       "43432   Sandwiches, Restaurants, Botanical Gardens, Ar...    3.5  \n",
       "82288   Pizza, Cocktail Bars, American (New), Restaura...    4.0  \n",
       "85295   Breweries, Pubs, French, Food, German, Bars, R...    4.0  \n",
       "89038                    Thai, Noodles, Food, Restaurants    4.5  \n",
       "126458  Seafood, Latin American, Argentine, Restaurant...    4.5  \n",
       "134349  Restaurants, Sandwiches, Bars, Chicken Wings, ...    3.5  \n",
       "163464  American (New), Seafood, Cocktail Bars, Nightl...    4.0  "
      ]
     },
     "execution_count": 7,
     "metadata": {},
     "output_type": "execute_result"
    }
   ],
   "source": [
    "df_1[df_1['business_id'].isin(most_reviewd_IDs)].drop_duplicates(subset='business_id',keep='first')[['business_id','categories','stars']].head(10)"
   ]
  },
  {
   "cell_type": "markdown",
   "metadata": {},
   "source": [
    "## 3_Topic Modeling"
   ]
  },
  {
   "cell_type": "code",
   "execution_count": 8,
   "metadata": {},
   "outputs": [],
   "source": [
    "ID = 'lKom12WnYEjH5FFemK3M1Q'\n",
    "df_2 = df_1[(df_1['business_id']==ID)]"
   ]
  },
  {
   "cell_type": "markdown",
   "metadata": {},
   "source": [
    "### 3.1_Preprocessing"
   ]
  },
  {
   "cell_type": "code",
   "execution_count": 9,
   "metadata": {},
   "outputs": [],
   "source": [
    "df_1positive = df_2[df_2['review_stars']>3]['text'].tolist()\n",
    "df_1negative = df_2[df_2['review_stars']<3]['text'].tolist()"
   ]
  },
  {
   "cell_type": "markdown",
   "metadata": {},
   "source": [
    "#### 3.1.1_Setting stopwords"
   ]
  },
  {
   "cell_type": "code",
   "execution_count": 10,
   "metadata": {},
   "outputs": [],
   "source": [
    "extra_words = ['ve', 'like', 'got', 'just', \n",
    "                'restaurant', 'great',\n",
    "                'topping', 'toppings',\n",
    "               'don', 'really', 'said', 'told', 'ok',\n",
    "               'came', 'went', 'did', 'didn', 'good','ll']\n",
    "stop_words = text.ENGLISH_STOP_WORDS.union(extra_words)"
   ]
  },
  {
   "cell_type": "markdown",
   "metadata": {},
   "source": [
    "#### 3.1.1_Replacing similar words by a common term"
   ]
  },
  {
   "cell_type": "code",
   "execution_count": 11,
   "metadata": {},
   "outputs": [],
   "source": [
    "def replace_words(text, dict_words):\n",
    "    for i,j in dict_words.items():\n",
    "        text = text.replace(i,j)\n",
    "    return text"
   ]
  },
  {
   "cell_type": "code",
   "execution_count": 12,
   "metadata": {},
   "outputs": [],
   "source": [
    "dict_words = {'ordered':'order',\n",
    "              'prices':'price', \n",
    "              'pizzas':'pizza', \n",
    "              'burgers': 'burguer',\n",
    "              'waiting' : 'wait',\n",
    "              'waited' : 'wait',\n",
    "              'waitress' : 'waiter',\n",
    "              'sandwiches' : 'sandwich'\n",
    "             }\n"
   ]
  },
  {
   "cell_type": "code",
   "execution_count": 13,
   "metadata": {},
   "outputs": [],
   "source": [
    "df_1negative = [replace_words(w, dict_words) for w in df_1negative]\n",
    "df_1positive = [replace_words(w, dict_words) for w in df_1positive]"
   ]
  },
  {
   "cell_type": "markdown",
   "metadata": {},
   "source": [
    "### 3.1_Dividing Dataset"
   ]
  },
  {
   "cell_type": "code",
   "execution_count": 14,
   "metadata": {},
   "outputs": [],
   "source": [
    "vectorizer_template = TfidfVectorizer(max_df=0.95, min_df=8, stop_words=stop_words)"
   ]
  },
  {
   "cell_type": "code",
   "execution_count": 15,
   "metadata": {},
   "outputs": [],
   "source": [
    "no_topics = 3\n",
    "no_top_words = 8"
   ]
  },
  {
   "cell_type": "markdown",
   "metadata": {},
   "source": [
    "### 3.2_Modeling the Positive Topic"
   ]
  },
  {
   "cell_type": "code",
   "execution_count": 16,
   "metadata": {},
   "outputs": [],
   "source": [
    "def display_topics(model, feature_names, num_topics, no_top_words):\n",
    "    for topic_idx, topic in enumerate(model.components_):\n",
    "        if topic_idx < num_topics:\n",
    "            print(\"{:11}\".format(\"Topic %d:\" %(topic_idx)), end='')\n",
    "            print(\", \".join(['{:04.3f}*'.format(topic[i])+feature_names[i] \\\n",
    "                             for i in topic.argsort()[:-no_top_words-1:-1]]))"
   ]
  },
  {
   "cell_type": "markdown",
   "metadata": {},
   "source": [
    "#### 3.2.1_Preprocessing"
   ]
  },
  {
   "cell_type": "code",
   "execution_count": 17,
   "metadata": {},
   "outputs": [],
   "source": [
    "## Primeira rodada: pegar o número de palavras\n",
    "aux_vectorizer = clone(vectorizer_template)\n",
    "aux_vectorizer.fit(df_1positive)\n",
    "max_features = int(0.2*len(aux_vectorizer.get_feature_names()))\n",
    "\n",
    "## Segunda rodada: faz a transformação\n",
    "positive_vectorizer = clone(vectorizer_template).set_params(max_features=max_features)\n",
    "positive_vectors = positive_vectorizer.fit_transform(df_1positive)\n",
    "positive_words = np.array(positive_vectorizer.get_feature_names())"
   ]
  },
  {
   "cell_type": "markdown",
   "metadata": {},
   "source": [
    "#### 3.2.2_Decomposing"
   ]
  },
  {
   "cell_type": "code",
   "execution_count": 18,
   "metadata": {},
   "outputs": [],
   "source": [
    "positive_nmf = NMF(n_components=no_topics, solver=\"mu\")\n",
    "W = positive_nmf.fit_transform(positive_vectors)\n",
    "H = positive_nmf.components_"
   ]
  },
  {
   "cell_type": "code",
   "execution_count": 19,
   "metadata": {},
   "outputs": [
    {
     "name": "stdout",
     "output_type": "stream",
     "text": [
      "Topic 0:   1.580*sandwich, 1.062*fries, 0.708*slaw, 0.687*cheese, 0.579*pittsburgh, 0.543*bread, 0.520*pastrami, 0.513*coleslaw\n",
      "Topic 1:   1.309*place, 1.190*food, 0.652*service, 0.544*pittsburgh, 0.450*love, 0.438*atmosphere, 0.328*time, 0.317*people\n",
      "Topic 2:   1.186*primanti, 0.715*original, 0.698*location, 0.586*bros, 0.571*strip, 0.440*brothers, 0.421*district, 0.390*time\n"
     ]
    }
   ],
   "source": [
    "display_topics(positive_nmf,positive_vectorizer.get_feature_names(),no_topics,no_top_words)"
   ]
  },
  {
   "cell_type": "markdown",
   "metadata": {},
   "source": [
    "### 3.3_Modeling the Negative Topic"
   ]
  },
  {
   "cell_type": "markdown",
   "metadata": {},
   "source": [
    "#### 3.3.1_Preprocessing"
   ]
  },
  {
   "cell_type": "code",
   "execution_count": 20,
   "metadata": {},
   "outputs": [],
   "source": [
    "## Primeira rodada: pegar o número de palavras\n",
    "aux_vectorizer = clone(vectorizer_template)\n",
    "aux_vectorizer.fit(df_1negative)\n",
    "max_features = int(0.2*len(aux_vectorizer.get_feature_names()))\n",
    "\n",
    "## Segunda rodada: faz a transformação\n",
    "negative_vectorizer = clone(vectorizer_template).set_params(max_features=max_features)\n",
    "negative_vectors = negative_vectorizer.fit_transform(df_1negative)\n",
    "negative_words = np.array(negative_vectorizer.get_feature_names())"
   ]
  },
  {
   "cell_type": "markdown",
   "metadata": {},
   "source": [
    "#### 3.3.2_Decomposing"
   ]
  },
  {
   "cell_type": "code",
   "execution_count": 21,
   "metadata": {},
   "outputs": [],
   "source": [
    "negative_nmf = NMF(n_components=no_topics, solver=\"mu\")\n",
    "W = negative_nmf.fit_transform(negative_vectors)\n",
    "H = negative_nmf.components_"
   ]
  },
  {
   "cell_type": "code",
   "execution_count": 22,
   "metadata": {},
   "outputs": [
    {
     "name": "stdout",
     "output_type": "stream",
     "text": [
      "Topic 0:   1.519*sandwich, 1.053*fries, 0.662*bread, 0.648*meat, 0.591*slaw, 0.570*cheese, 0.475*coleslaw, 0.405*french\n",
      "Topic 1:   1.419*place, 1.384*food, 0.503*service, 0.396*pittsburgh, 0.334*eat, 0.211*time, 0.155*better, 0.137*special\n",
      "Topic 2:   0.971*primanti, 0.920*pittsburgh, 0.572*brothers, 0.504*location, 0.447*experience, 0.322*time, 0.315*order, 0.305*try\n"
     ]
    }
   ],
   "source": [
    "display_topics(negative_nmf,negative_vectorizer.get_feature_names(),no_topics,no_top_words)"
   ]
  }
 ],
 "metadata": {
  "kernelspec": {
   "display_name": "Python 3",
   "language": "python",
   "name": "python3"
  },
  "language_info": {
   "codemirror_mode": {
    "name": "ipython",
    "version": 3
   },
   "file_extension": ".py",
   "mimetype": "text/x-python",
   "name": "python",
   "nbconvert_exporter": "python",
   "pygments_lexer": "ipython3",
   "version": "3.7.1"
  }
 },
 "nbformat": 4,
 "nbformat_minor": 4
}
